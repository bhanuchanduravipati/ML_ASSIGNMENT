{
 "cells": [
  {
   "cell_type": "code",
   "execution_count": null,
   "id": "cd345e41",
   "metadata": {},
   "outputs": [],
   "source": [
    "Name:Ravipati Bhanu Chandu\n",
    "700# : 700728966"
   ]
  },
  {
   "cell_type": "code",
   "execution_count": 7,
   "id": "d401dbf7",
   "metadata": {
    "scrolled": true
   },
   "outputs": [
    {
     "name": "stdout",
     "output_type": "stream",
     "text": [
      "[19, 19, 20, 22, 24, 24, 24, 25, 25, 26]\n",
      "19\n",
      "26\n",
      "[19, 19, 20, 22, 24, 24, 24, 25, 25, 26, 19, 26]\n",
      "24.0\n",
      "22.75\n",
      "7\n"
     ]
    }
   ],
   "source": [
    "import statistics\n",
    "ages=[19, 22, 19, 24, 20, 25, 26, 24, 25, 24]\n",
    "#Sorting the list\n",
    "ages.sort()\n",
    "print(ages)\n",
    "#Minimum age\n",
    "min_age=ages[0]\n",
    "print(min_age)\n",
    "#Maximum age\n",
    "max_age=ages[len(ages)-1]\n",
    "print(max_age)\n",
    "#Appending minimum and miximum ages to list\n",
    "ages.append(min_age)\n",
    "ages.append(max_age)\n",
    "print(ages)\n",
    "#Median\n",
    "median=statistics.median(ages)\n",
    "print(median)\n",
    "#Average\n",
    "length=len(ages)\n",
    "sum_ages=sum(ages)\n",
    "average=sum_ages/length\n",
    "print(average)\n",
    "#Range \n",
    "range=(max_age-min_age)\n",
    "print(range)\n"
   ]
  },
  {
   "cell_type": "code",
   "execution_count": 11,
   "id": "7d99ff81",
   "metadata": {},
   "outputs": [
    {
     "name": "stdout",
     "output_type": "stream",
     "text": [
      "{'name': 'Kushi', 'color': 'brown', 'breed': 'German Shepard', 'legs': 'brown', 'age': '2'}\n",
      "{'first_name': 'Bhanu Chandu', 'last_name': 'Ravipati', 'gender': 'Male', 'age': '23', 'marital status': 'Single', 'Skills': ['Python', 'aws'], 'country': 'USA', 'city': 'Overland Park', 'address': '14000 floyd street'}\n",
      "9\n",
      "<class 'list'>\n",
      "{'first_name': 'Bhanu Chandu', 'last_name': 'Ravipati', 'gender': 'Male', 'age': '23', 'marital status': 'Single', 'Skills': ['Python', 'aws', 'Java', 'C#'], 'country': 'USA', 'city': 'Overland Park', 'address': '14000 floyd street'}\n",
      "['first_name', 'last_name', 'gender', 'age', 'marital status', 'Skills', 'country', 'city', 'address']\n",
      "['Bhanu Chandu', 'Ravipati', 'Male', '23', 'Single', ['Python', 'aws', 'Java', 'C#'], 'USA', 'Overland Park', '14000 floyd street']\n"
     ]
    }
   ],
   "source": [
    "#Dog dictionary\n",
    "dog={}\n",
    "dog['name']='Kushi'\n",
    "dog['color']='brown'\n",
    "dog['breed']='German Shepard'\n",
    "dog['legs']='brown'\n",
    "dog['age']='2'\n",
    "print(dog)\n",
    "#Student dictonary\n",
    "student={}\n",
    "student['first_name']='Bhanu Chandu'\n",
    "student['last_name']='Ravipati'\n",
    "student['gender']='Male'\n",
    "student['age']='23'\n",
    "student['marital status']='Single'\n",
    "student['Skills']=['Python','aws']\n",
    "student['country']='USA'\n",
    "student['city']='Overland Park'\n",
    "student['address']='14000 floyd street'\n",
    "print(student)\n",
    "#length of the dictonary\n",
    "print(len(student))\n",
    "#value of the skill and checking datatype\n",
    "print(type(student['Skills']))\n",
    "#Modifing Skills  \n",
    "student['Skills']=['Python','aws','Java','C#']\n",
    "print(student)\n",
    "#Getting Keys as list\n",
    "keys=student.keys()\n",
    "print(list(keys))\n",
    "#Getting values as list\n",
    "values=student.values()\n",
    "print(list(values))"
   ]
  },
  {
   "cell_type": "code",
   "execution_count": 10,
   "id": "d105ed65",
   "metadata": {},
   "outputs": [
    {
     "name": "stdout",
     "output_type": "stream",
     "text": [
      "('Teja', 'Kotu', 'jyoshna', 'vishnu')\n",
      "4\n"
     ]
    },
    {
     "data": {
      "text/plain": [
       "('Teja', 'Kotu', 'jyoshna', 'vishnu', 'venkata rao', 'sujatha')"
      ]
     },
     "execution_count": 10,
     "metadata": {},
     "output_type": "execute_result"
    }
   ],
   "source": [
    "brothers_tuple=('Teja','Kotu')\n",
    "sisters_tuple=('jyoshna','vishnu')\n",
    "#Joining brothers tuple and sisters tuple\n",
    "siblings=brothers_tuple+sisters_tuple\n",
    "print(siblings)\n",
    "#Length of the siblings\n",
    "print(len(siblings))\n",
    "#Modifing siblings tuple and adding parents to it\n",
    "siblings=list(siblings)\n",
    "siblings.append('venkata rao')\n",
    "siblings.append('sujatha')\n",
    "#Family members tuple\n",
    "family_members=tuple(siblings)\n",
    "family_members"
   ]
  },
  {
   "cell_type": "code",
   "execution_count": 8,
   "id": "9d672b00",
   "metadata": {},
   "outputs": [
    {
     "name": "stdout",
     "output_type": "stream",
     "text": [
      "7\n",
      "{'IBM', 'Amazon', 'Microsoft', 'Google', 'Apple', 'Oracle', 'Twitter', 'Facebook'}\n",
      "{'Microsoft', 'IBM', 'Google', 'Apple', 'CTS', 'Infosys', 'Amazon', 'Valuelabs', 'Oracle', 'Twitter', 'Facebook'}\n",
      "{'Microsoft', 'IBM', 'Google', 'Apple', 'Infosys', 'Amazon', 'Valuelabs', 'Oracle', 'Twitter', 'Facebook'}\n",
      "{'Microsoft', 'IBM', 'Google', 'Apple', 'Infosys', 'Amazon', 'Valuelabs', 'Oracle', 'Twitter', 'Facebook'}\n",
      "{19, 20, 22, 24, 25, 26, 27, 28}\n",
      "{19, 20, 22, 24, 25, 26}\n",
      "True\n",
      "False\n",
      "{19, 20, 22, 24, 25, 26, 27, 28}\n",
      "{19, 20, 22, 24, 25, 26, 27, 28}\n",
      "{27, 28}\n",
      "8\n",
      "5\n"
     ]
    }
   ],
   "source": [
    "it_companies = {'Facebook', 'Google', 'Microsoft', 'Apple', 'IBM', 'Oracle', 'Amazon'}\n",
    "A = {19, 22, 24, 20, 25, 26}\n",
    "B = {19, 22, 20, 25, 26, 24, 28, 27}\n",
    "age = [22, 19, 24, 25, 26, 24, 25, 24]\n",
    "#Find the length of the set it_companies\n",
    "print(len(it_companies))\n",
    "# Add 'Twitter' to it_companies\n",
    "it_companies.add('Twitter')\n",
    "print(it_companies)\n",
    "#Insert multiple IT companies at once to the set it_companies\n",
    "new_companies=['Valuelabs','CTS','Infosys']\n",
    "it_companies.update(new_companies)\n",
    "print(it_companies)\n",
    "#Remove one of the companies from the set it_companies\n",
    "it_companies.remove('CTS')\n",
    "print(it_companies)\n",
    "#Difference between remove and discard\n",
    "'''\n",
    "remove() method will remove the specific elemet from the set. If the element is not present it will raise an error\n",
    "dicard() methos will works same as remove() but it wont raise any error even the element is not present\n",
    "'''\n",
    "#Example for discard\n",
    "it_companies.discard('CTS')\n",
    "print(it_companies)\n",
    "#Join A and B\n",
    "C=A.union(B)\n",
    "print(C)\n",
    "#Find A intersection B\n",
    "D=A.intersection(B)\n",
    "print(D)\n",
    "#Is A subset of B\n",
    "print(A.issubset(B))\n",
    "#Are A and B disjoint sets\n",
    "print(A.isdisjoint(B))\n",
    "#Join A with B and B with A\n",
    "print(A.union(B))\n",
    "print(B.union(A))\n",
    "#What is the symmetric difference between A and B\n",
    "print(A.symmetric_difference(B))\n",
    "#Delete the sets completely\n",
    "del it_companies\n",
    "del A\n",
    "del B\n",
    "#Convert the ages to a set and compare the length of the list and the set\n",
    "print(len(age))\n",
    "age_set=set(age)\n",
    "print(len(age_set))\n",
    "\n"
   ]
  },
  {
   "cell_type": "code",
   "execution_count": 9,
   "id": "a69e06da",
   "metadata": {},
   "outputs": [
    {
     "name": "stdout",
     "output_type": "stream",
     "text": [
      "2826.0\n",
      "188.4\n",
      "Enter the value of radius10\n",
      "314.0\n"
     ]
    }
   ],
   "source": [
    "radius=30\n",
    "_area_of_circle_=(3.14)*(radius)*(radius)\n",
    "print(_area_of_circle_)\n",
    "_circum_of_circle_=(2)*(3.14)*(radius)\n",
    "print(_circum_of_circle_)\n",
    "user_radius=int(input(\"Enter the value of radius\"))\n",
    "print((3.14)*(user_radius)*(user_radius))"
   ]
  },
  {
   "cell_type": "code",
   "execution_count": 10,
   "id": "5d655cfd",
   "metadata": {},
   "outputs": [
    {
     "name": "stdout",
     "output_type": "stream",
     "text": [
      "{'to', 'and', 'inspire', 'teach', 'I', 'love', 'am', 'teacher', 'people', 'a'}\n",
      "10\n"
     ]
    }
   ],
   "source": [
    "sen='I am a teacher and I love to inspire and teach people'\n",
    "#Splitting the word with space\n",
    "word_count=sen.split(\" \")\n",
    "#Getting unique words using set\n",
    "unique_word=set(word_count)\n",
    "print(unique_word)\n",
    "#Length of the set\n",
    "print(len(unique_word))"
   ]
  },
  {
   "cell_type": "code",
   "execution_count": 11,
   "id": "f9dcf5b1",
   "metadata": {},
   "outputs": [
    {
     "name": "stdout",
     "output_type": "stream",
     "text": [
      "Name\t\tAge\tCountry\tCity\n",
      "Asabeneh\t250\tFinland\tHelsinki\n"
     ]
    }
   ],
   "source": [
    "print(\"Name\\t\\tAge\\tCountry\\tCity\\nAsabeneh\\t250\\tFinland\\tHelsinki\")"
   ]
  },
  {
   "cell_type": "code",
   "execution_count": 18,
   "id": "cbd2118a",
   "metadata": {},
   "outputs": [
    {
     "name": "stdout",
     "output_type": "stream",
     "text": [
      "radius = 10\n",
      "area = 3.14*radius**2\n",
      "\"The area of a circle with radius 10 is 314.0 meters square\"\n"
     ]
    }
   ],
   "source": [
    "print(\"radius = {radius}\".format(radius=10))\n",
    "print(\"area = {PI}*radius**2\".format(PI=3.14))\n",
    "print(\"\\\"The area of a circle with radius {radius} is {area} meters square\"\"\\\"\".format(radius=10,area=(3.14)*(radius)*(radius)))"
   ]
  },
  {
   "cell_type": "code",
   "execution_count": 12,
   "id": "d6e99443",
   "metadata": {},
   "outputs": [
    {
     "name": "stdout",
     "output_type": "stream",
     "text": [
      "150,155,145,148\n",
      "[68.03, 70.29, 65.76, 67.12]\n"
     ]
    }
   ],
   "source": [
    "weights_in_Lbs=[int(x) for x in input().split(',')]\n",
    "weights_in_Kgs=[]\n",
    "for i in weights_in_Lbs:\n",
    "    kgdata= i/2.205\n",
    "    weights_in_Kgs.append(round(kgdata,2))\n",
    "print(weights_in_Kgs)"
   ]
  },
  {
   "cell_type": "code",
   "execution_count": 4,
   "id": "902ecb5f",
   "metadata": {},
   "outputs": [
    {
     "name": "stdout",
     "output_type": "stream",
     "text": [
      "[[1 0]\n",
      " [2 0]\n",
      " [3 0]\n",
      " [6 0]]\n",
      "[0 0 1 1]\n",
      "[1 1 1 1]\n"
     ]
    }
   ],
   "source": [
    "import numpy as np\n",
    "from sklearn.model_selection import train_test_split\n",
    "#Importing for implementing knn\n",
    "from sklearn.neighbors import KNeighborsClassifier\n",
    "#Splitting data into training and testing data\n",
    "data1=np.array([[1,0],[2,0],[3,0],[6,0],[6,0],[7,0],[10,0],[11,0]])\n",
    "data2=np.array([0,0,1,1,1,0,0,0])\n",
    "data1_train,data1_test,data2_train,data2_test=train_test_split(data1,data2,test_size=0.5,random_state=0,shuffle=False)\n",
    "print(data1_train)\n",
    "print(data2_train)\n",
    "#implementing knn with 3\n",
    "n=KNeighborsClassifier(n_neighbors=3)\n",
    "#fitting the knn from the training data\n",
    "n.fit(x_train,y_train)\n",
    "data2_pred=n.predict(data1_test)\n",
    "print(data2_pred)"
   ]
  },
  {
   "cell_type": "code",
   "execution_count": 6,
   "id": "d1cfc3d1",
   "metadata": {},
   "outputs": [
    {
     "data": {
      "text/plain": [
       "array([[0, 3],\n",
       "       [0, 1]], dtype=int64)"
      ]
     },
     "execution_count": 6,
     "metadata": {},
     "output_type": "execute_result"
    }
   ],
   "source": [
    "from sklearn.metrics import confusion_matrix\n",
    "#comparing test class labels with predicted class lables\n",
    "(confusion_matrix(data2_test,data2_pred))"
   ]
  },
  {
   "cell_type": "code",
   "execution_count": null,
   "id": "1ddcd7ae",
   "metadata": {},
   "outputs": [],
   "source": []
  }
 ],
 "metadata": {
  "kernelspec": {
   "display_name": "Python 3 (ipykernel)",
   "language": "python",
   "name": "python3"
  },
  "language_info": {
   "codemirror_mode": {
    "name": "ipython",
    "version": 3
   },
   "file_extension": ".py",
   "mimetype": "text/x-python",
   "name": "python",
   "nbconvert_exporter": "python",
   "pygments_lexer": "ipython3",
   "version": "3.9.7"
  }
 },
 "nbformat": 4,
 "nbformat_minor": 5
}
